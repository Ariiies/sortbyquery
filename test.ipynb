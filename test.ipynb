{
 "cells": [
  {
   "cell_type": "markdown",
   "metadata": {},
   "source": [
    "**Importation of sortbyquery.**"
   ]
  },
  {
   "cell_type": "code",
   "execution_count": 4,
   "metadata": {},
   "outputs": [],
   "source": [
    "from sortbyquery import sort_by_query as sbq"
   ]
  },
  {
   "cell_type": "markdown",
   "metadata": {},
   "source": [
    "**Items to be sorted by the sory_by_query function based on their similarity to a query**"
   ]
  },
  {
   "cell_type": "code",
   "execution_count": 5,
   "metadata": {},
   "outputs": [
    {
     "name": "stdout",
     "output_type": "stream",
     "text": [
      "doc:  Item 4  ratio:  0.18351454309705253\n",
      "doc:  Item 3  ratio:  0.14271309875352126\n",
      "doc:  Item 1  ratio:  0.11695140411952283\n",
      "doc:  Item 2  ratio:  0.05772835728874011\n",
      "doc:  Item 5  ratio:  0.0\n"
     ]
    }
   ],
   "source": [
    "docs = [[\"Item 1\",\"i really likes gengar and mega gengar too, they are cool\"],\n",
    "        [\"Item 2\",\"many people think's that gengar is a cool pokemon\"],\n",
    "        [\"Item 3\",\"mega gengar is the best mega, and gengar best pokemon, i love gengar\"],\n",
    "        [\"Item 4\",\"i hate gengar and gengar fans but hates more mega gengar and mega gengar fans\"],\n",
    "        [\"Item 5\",\"i thing mewtwo is coolest pokemon\"]]\n",
    "\n",
    "\n",
    "query = \"gengar\"\n",
    "new_doc = sbq(query,docs)\n",
    "\n",
    "for doc in new_doc:\n",
    "    print(\"doc: \",doc[0],\" ratio: \", doc[2])\n"
   ]
  }
 ],
 "metadata": {
  "kernelspec": {
   "display_name": "Python 3",
   "language": "python",
   "name": "python3"
  },
  "language_info": {
   "codemirror_mode": {
    "name": "ipython",
    "version": 3
   },
   "file_extension": ".py",
   "mimetype": "text/x-python",
   "name": "python",
   "nbconvert_exporter": "python",
   "pygments_lexer": "ipython3",
   "version": "3.9.2"
  }
 },
 "nbformat": 4,
 "nbformat_minor": 2
}
